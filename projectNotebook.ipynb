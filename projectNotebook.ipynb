{
 "cells": [
  {
   "cell_type": "markdown",
   "metadata": {},
   "source": [
    "# In this project try we will use sklearn to cluster . We are using the reuter 50_50 dataset which contains data seperatly for test and training"
   ]
  },
  {
   "cell_type": "code",
   "execution_count": 266,
   "metadata": {},
   "outputs": [
    {
     "name": "stdout",
     "output_type": "stream",
     "text": [
      "The Cython extension is already loaded. To reload it, use:\n",
      "  %reload_ext Cython\n"
     ]
    }
   ],
   "source": [
    "%load_ext Cython"
   ]
  },
  {
   "cell_type": "code",
   "execution_count": 277,
   "metadata": {},
   "outputs": [],
   "source": [
    "import pandas as pd\n",
    "import sklearn as sk\n",
    "import numpy as np\n",
    "import os\n",
    "import re\n",
    "from nltk.corpus import stopwords\n",
    "from bs4 import BeautifulSoup\n",
    "from sklearn.feature_extraction.text import CountVectorizer\n",
    "from sklearn.feature_extraction.text import TfidfVectorizer\n",
    "from sklearn.cluster import KMeans\n",
    "import pyximport; pyximport.install()\n",
    "import matplotlib.pyplot as plt\n",
    "from nltk.stem import WordNetLemmatizer\n",
    "from sklearn.model_selection import train_test_split\n",
    "from sklearn.linear_model import LogisticRegression\n",
    "# rcParams['figure.figsize'] = 15, 6\n",
    "from sklearn.decomposition import PCA\n",
    "import pylab as pl"
   ]
  },
  {
   "cell_type": "code",
   "execution_count": 268,
   "metadata": {
    "collapsed": true
   },
   "outputs": [],
   "source": [
    "trainDataUrl=\"Datasets/C50/C50train/\"\n",
    "testDataUrl=\"Datasets/C50/C50test/\"\n",
    "imageFolder=\"ImageFolder\""
   ]
  },
  {
   "cell_type": "markdown",
   "metadata": {},
   "source": [
    "# Getting the data and putting it "
   ]
  },
  {
   "cell_type": "code",
   "execution_count": 269,
   "metadata": {},
   "outputs": [
    {
     "data": {
      "text/plain": [
       "['LynnleyBrowning', 'JanLopatka', 'MichaelConnor']"
      ]
     },
     "execution_count": 269,
     "metadata": {},
     "output_type": "execute_result"
    }
   ],
   "source": [
    "authorNames=os.listdir(trainDataUrl);\n",
    "authorNames[0:3]"
   ]
  },
  {
   "cell_type": "code",
   "execution_count": 270,
   "metadata": {
    "collapsed": true
   },
   "outputs": [],
   "source": [
    "authorArticleFiles=[];\n",
    "for author in authorNames:\n",
    "    baseUrl=os.path.join(trainDataUrl,author)\n",
    "    authorArticleFiles.extend([os.path.join(baseUrl,fileName) for fileName in os.listdir(baseUrl)])\n",
    "    baseUrl=os.path.join(testDataUrl,author)\n",
    "    authorArticleFiles.extend([os.path.join(baseUrl,fileName) for fileName in os.listdir(baseUrl)])"
   ]
  },
  {
   "cell_type": "code",
   "execution_count": 271,
   "metadata": {
    "collapsed": true
   },
   "outputs": [],
   "source": [
    "authorArticleList=[]\n",
    "authorLabelList=[]\n",
    "for fileName in authorArticleFiles:\n",
    "    author=fileName.split('/')[-2];\n",
    "    authorLabelList.append(authorNames.index(author))\n",
    "    filePointer=open(fileName,'r');\n",
    "    authorArticleList.append(filePointer.read())\n",
    "    "
   ]
  },
  {
   "cell_type": "code",
   "execution_count": 272,
   "metadata": {
    "scrolled": true
   },
   "outputs": [
    {
     "data": {
      "text/plain": [
       "'Czech power producer CEZ a.s. on Friday said its nine month net profit hit 8.4 billion crowns, up from 7.4 billion for the same period last year, according to international accounting standards, as household electricity demand surged.\\nCEZ\\'s Director of Planning and Analysis section Petr Voboril told a news conference that higher depriciation write-offs due to the opening of new installations cut the company\\'s tax obligations, and boosting its bottom line.\\nThe company\\'s gross profit for the period remained flat at 13.1 billion.\\nCzech accounting put the firm\\'s profit for the first nine months at 7.04 billion, up from 6.7 billion last year.\\nCEZ said the result did not change the firm\\'s profit forecast under Czech standards for the whole year, which is 8.1 billion crowns, equal to last year\\'s.\\nA financial statement showed CEZ wrote off 4.1 billion in the first nine months compared with 3.4 billion in the same period of 1995, and paid 4.7 billion in income tax after 5.7 billion last year.\\n\"Above all, lowering of tax obligations in connection with depriciation policy have influenced this (profit) increase,\" Voboril said.\\nHe said that overall demand for electricity rose by 5.5 percent in the period, and is expected to reach a record high of 55.3 terrawatthours, 6.1 percent up year-on-year, for the whole 1996.\\nHousehold consumption drove the increase, rising 10.5 percent, while large clients demanded almost two percent more power over the same period of the last year.\\nVoboril said that a recent ruling by the Finance Minstry on maximum prices CEZ can charge regional power distributors did not effect results thanks to the sales increase.\\nThe ministry decided that the maximum average price CEZ can charge for supplies this year is 1,035 crowns per megawatthour, up two crowns from the last year but below the firm\\'s 1,040 crown expectation included in business plan.\\nVoboril said that short-term indebtedness of CEZ increased as well as financial expenditures due to unpaid recievables from some of the eight regional distributors, which totalled 3.2 billion crowns as of September 30.\\nCEZ and six of the country\\'s eight regional grid operators had been locked in a price dispute with CEZ until the ministry ruling last month.\\nCEZ is also considering an international bond issue next year as it needs financing but has already flooded the domestic market with paper, Voboril said.\\nLocal analysts welcomed the results but said they did not expect them to help CEZ\\'s share price much as the Prague Stock Exchange is plagued by a lack of confidence.\\n\"The CEZ results are slightly better than I expected. CEZ is fundamentally undervalued but genereal market sentiment is not very strong,\" said Petr Dousa of Zivnostenska Banka. \"I don\\'t expect the price to go up to 1,000 in the next few days.\"\\nCEZ shares closed up 14 crowns on the Prague Stock Exchange on Friday to close at 937.\\n-- Prague Newsroom, 42-2-2423-0003\\n'"
      ]
     },
     "execution_count": 272,
     "metadata": {},
     "output_type": "execute_result"
    }
   ],
   "source": [
    "authorArticleList[100]"
   ]
  },
  {
   "cell_type": "code",
   "execution_count": null,
   "metadata": {
    "collapsed": true
   },
   "outputs": [],
   "source": []
  },
  {
   "cell_type": "markdown",
   "metadata": {},
   "source": [
    "# Cleaning the articles"
   ]
  },
  {
   "cell_type": "code",
   "execution_count": 273,
   "metadata": {
    "collapsed": true
   },
   "outputs": [],
   "source": [
    "def cleanArticleData(article):\n",
    "    \n",
    "    #Removing Html Element\n",
    "    article=BeautifulSoup(article).get_text()\n",
    "    \n",
    "    #Removing non Letters\n",
    "    article=re.sub(\"[^a-zA-Z]\",\" \",article)\n",
    "    \n",
    "    #Lowercase and Splitting\n",
    "    articleWords=article.lower().split()\n",
    "    \n",
    "    #Removing Stop Words\n",
    "#     ps=PorterStemmer();\n",
    "    ps=WordNetLemmatizer();\n",
    "    refinedArticle=[];\n",
    "    for word in articleWords:\n",
    "        if word not in stopwords.words(\"english\"):\n",
    "            refinedArticle.append(ps.lemmatize(word))\n",
    "            \n",
    "\n",
    "    \n",
    "    return \" \".join(refinedArticle)"
   ]
  },
  {
   "cell_type": "code",
   "execution_count": null,
   "metadata": {
    "scrolled": false
   },
   "outputs": [],
   "source": [
    "cleanArticleList=[];\n",
    "for article in authorArticleList:\n",
    "    cleanArticleList.append(cleanArticleData(article))"
   ]
  },
  {
   "cell_type": "code",
   "execution_count": null,
   "metadata": {
    "scrolled": true
   },
   "outputs": [],
   "source": [
    "cleanArticleList[0]"
   ]
  },
  {
   "cell_type": "code",
   "execution_count": null,
   "metadata": {
    "collapsed": true
   },
   "outputs": [],
   "source": [
    "dataList=[];\n",
    "for i in range(len(cleanArticleList)):\n",
    "    dataList.append([cleanArticleList[i],authorLabelList[i]])"
   ]
  },
  {
   "cell_type": "code",
   "execution_count": null,
   "metadata": {
    "scrolled": true
   },
   "outputs": [],
   "source": [
    "dataList[0]"
   ]
  },
  {
   "cell_type": "markdown",
   "metadata": {},
   "source": [
    "# Creating a pandas DataFrame"
   ]
  },
  {
   "cell_type": "code",
   "execution_count": 13,
   "metadata": {
    "collapsed": true
   },
   "outputs": [],
   "source": [
    "dataFrame=pd.DataFrame(dataList);\n",
    "dataFrame.columns=['article','authorLabel']"
   ]
  },
  {
   "cell_type": "code",
   "execution_count": 14,
   "metadata": {
    "collapsed": true
   },
   "outputs": [],
   "source": [
    "dataFrame.to_csv(\"ArticleDataset.csv\")"
   ]
  },
  {
   "cell_type": "code",
   "execution_count": 15,
   "metadata": {
    "scrolled": true
   },
   "outputs": [
    {
     "data": {
      "text/html": [
       "<div>\n",
       "<style>\n",
       "    .dataframe thead tr:only-child th {\n",
       "        text-align: right;\n",
       "    }\n",
       "\n",
       "    .dataframe thead th {\n",
       "        text-align: left;\n",
       "    }\n",
       "\n",
       "    .dataframe tbody tr th {\n",
       "        vertical-align: top;\n",
       "    }\n",
       "</style>\n",
       "<table border=\"1\" class=\"dataframe\">\n",
       "  <thead>\n",
       "    <tr style=\"text-align: right;\">\n",
       "      <th></th>\n",
       "      <th>article</th>\n",
       "      <th>authorLabel</th>\n",
       "    </tr>\n",
       "  </thead>\n",
       "  <tbody>\n",
       "    <tr>\n",
       "      <th>0</th>\n",
       "      <td>russia metal sector key supplier world market ...</td>\n",
       "      <td>0</td>\n",
       "    </tr>\n",
       "    <tr>\n",
       "      <th>1</th>\n",
       "      <td>russia quietly importing western grain offset ...</td>\n",
       "      <td>0</td>\n",
       "    </tr>\n",
       "    <tr>\n",
       "      <th>2</th>\n",
       "      <td>russian finance minister alexander livshits wa...</td>\n",
       "      <td>0</td>\n",
       "    </tr>\n",
       "    <tr>\n",
       "      <th>3</th>\n",
       "      <td>russia rosneft oil firm new lease life monday ...</td>\n",
       "      <td>0</td>\n",
       "    </tr>\n",
       "    <tr>\n",
       "      <th>4</th>\n",
       "      <td>russia diamond could face rocky future tax off...</td>\n",
       "      <td>0</td>\n",
       "    </tr>\n",
       "  </tbody>\n",
       "</table>\n",
       "</div>"
      ],
      "text/plain": [
       "                                             article  authorLabel\n",
       "0  russia metal sector key supplier world market ...            0\n",
       "1  russia quietly importing western grain offset ...            0\n",
       "2  russian finance minister alexander livshits wa...            0\n",
       "3  russia rosneft oil firm new lease life monday ...            0\n",
       "4  russia diamond could face rocky future tax off...            0"
      ]
     },
     "execution_count": 15,
     "metadata": {},
     "output_type": "execute_result"
    }
   ],
   "source": [
    "dataFrame.head()"
   ]
  },
  {
   "cell_type": "code",
   "execution_count": 16,
   "metadata": {},
   "outputs": [
    {
     "data": {
      "text/plain": [
       "5000"
      ]
     },
     "execution_count": 16,
     "metadata": {},
     "output_type": "execute_result"
    }
   ],
   "source": [
    "len(cleanArticleList)"
   ]
  },
  {
   "cell_type": "code",
   "execution_count": 17,
   "metadata": {},
   "outputs": [
    {
     "data": {
      "text/plain": [
       "(5000,)"
      ]
     },
     "execution_count": 17,
     "metadata": {},
     "output_type": "execute_result"
    }
   ],
   "source": [
    "dataFrameArticles=dataFrame['article']\n",
    "dataFrameArticles.shape"
   ]
  },
  {
   "cell_type": "markdown",
   "metadata": {},
   "source": [
    "# Getting Features"
   ]
  },
  {
   "cell_type": "code",
   "execution_count": 157,
   "metadata": {
    "collapsed": true
   },
   "outputs": [],
   "source": [
    "vectorizer=TfidfVectorizer(analyzer=\"word\",min_df=0.2,max_df=0.8,stop_words=\"english\")"
   ]
  },
  {
   "cell_type": "code",
   "execution_count": 158,
   "metadata": {
    "collapsed": true,
    "scrolled": true
   },
   "outputs": [],
   "source": [
    "x=vectorizer.fit_transform(cleanArticleList)"
   ]
  },
  {
   "cell_type": "code",
   "execution_count": 159,
   "metadata": {},
   "outputs": [
    {
     "data": {
      "text/plain": [
       "(5000, 87)"
      ]
     },
     "execution_count": 159,
     "metadata": {},
     "output_type": "execute_result"
    }
   ],
   "source": [
    "x.shape"
   ]
  },
  {
   "cell_type": "code",
   "execution_count": 206,
   "metadata": {
    "collapsed": true
   },
   "outputs": [],
   "source": [
    "vocabulary=vectorizer.get_feature_names()"
   ]
  },
  {
   "cell_type": "code",
   "execution_count": 160,
   "metadata": {},
   "outputs": [
    {
     "name": "stdout",
     "output_type": "stream",
     "text": [
      "['director', 'number', 'right', 'exchange', 'way', 'future', 'trading', 'level', 'big', 'like', 'growth', 'bank', 'largest', 'want', 'earlier', 'early', 'recent', 'strong', 'united', 'country', 'come', 'going', 'friday', 'china', 'including', 'issue', 'investment', 'set', 'product', 'news', 'good', 'second', 'deal', 'result', 'thursday', 'president', 'firm', 'monday', 'term', 'service', 'british', 'international', 'chairman', 'financial', 'think', 'cost', 'tuesday', 'wednesday', 'major', 'long', 'day', 'high', 'world', 'say', 'profit', 'reuters', 'sale', 'added', 'people', 'official', 'chief', 'stock', 'end', 'make', 'price', 'executive', 'government', 'plan', 'corp', 'week', 'state', 'industry', 'based', 'time', 'business', 'expected', 'group', 'told', 'month', 'share', 'billion', 'analyst', 'market', 'million', 'new', 'percent', 'company']\n"
     ]
    }
   ],
   "source": [
    "indices = np.argsort(vectorizer.idf_)[::-1]\n",
    "features = vectorizer.get_feature_names()\n",
    "top_n = 335\n",
    "top_features = [features[i] for i in indices[:top_n]]\n",
    "print(top_features)"
   ]
  },
  {
   "cell_type": "markdown",
   "metadata": {},
   "source": [
    "# Finding the ideal no of cluster"
   ]
  },
  {
   "cell_type": "code",
   "execution_count": 96,
   "metadata": {
    "scrolled": false
   },
   "outputs": [
    {
     "name": "stdout",
     "output_type": "stream",
     "text": [
      "Completed i=10\n",
      "Completed i=20\n",
      "Completed i=30\n",
      "Completed i=40\n",
      "Completed i=50\n",
      "Completed i=60\n",
      "Completed i=70\n",
      "Completed i=80\n",
      "Completed i=90\n"
     ]
    }
   ],
   "source": [
    "score=[];\n",
    "for i in range(1,100):\n",
    "    kmeans=KMeans(n_clusters=i);\n",
    "    kmeans.fit_transform(x);\n",
    "    score.append(kmeans.score(x));\n",
    "    if(i%10==0):\n",
    "        print(\"Completed i=\"+str(i));"
   ]
  },
  {
   "cell_type": "code",
   "execution_count": 98,
   "metadata": {
    "collapsed": true
   },
   "outputs": [],
   "source": [
    "posScore=[0-scoreElement for scoreElement in score]"
   ]
  },
  {
   "cell_type": "code",
   "execution_count": 106,
   "metadata": {
    "scrolled": true
   },
   "outputs": [
    {
     "data": {
      "text/plain": [
       "[3561.661095646623,\n",
       " 3396.0669084292776,\n",
       " 3259.2985392360188,\n",
       " 3173.123945025118,\n",
       " 3102.9697883688996,\n",
       " 3051.564208265323,\n",
       " 3005.903616339043,\n",
       " 2963.4793116419323,\n",
       " 2925.6571861059733]"
      ]
     },
     "execution_count": 106,
     "metadata": {},
     "output_type": "execute_result"
    }
   ],
   "source": [
    "posScore[1:10]"
   ]
  },
  {
   "cell_type": "code",
   "execution_count": 104,
   "metadata": {
    "collapsed": true
   },
   "outputs": [],
   "source": [
    "pd.DataFrame(posScore).to_csv(\"score.csv\");"
   ]
  },
  {
   "cell_type": "code",
   "execution_count": 136,
   "metadata": {},
   "outputs": [
    {
     "data": {
      "image/png": "[encoded data removed]",
      "text/plain": [
       "<matplotlib.figure.Figure at 0x7fda94fe6908>"
      ]
     },
     "metadata": {},
     "output_type": "display_data"
    }
   ],
   "source": [
    "fig1 = plt.figure()\n",
    "ax1 = fig1.add_subplot(111)\n",
    "ax1.plot(posScore,marker='o')\n",
    "\n",
    "plt.show()"
   ]
  },
  {
   "cell_type": "markdown",
   "metadata": {},
   "source": [
    "# Applying kmeans for 5 clusters"
   ]
  },
  {
   "cell_type": "raw",
   "metadata": {},
   "source": [
    "###Input: Input is the article list collected from different article. "
   ]
  },
  {
   "cell_type": "raw",
   "metadata": {},
   "source": [
    "###Output: Output is the cluster"
   ]
  },
  {
   "cell_type": "code",
   "execution_count": 246,
   "metadata": {
    "collapsed": true
   },
   "outputs": [],
   "source": [
    "n_cluster=5;"
   ]
  },
  {
   "cell_type": "code",
   "execution_count": 247,
   "metadata": {},
   "outputs": [],
   "source": [
    "kmeansCluster=KMeans(n_clusters=n_cluster,random_state=10);\n"
   ]
  },
  {
   "cell_type": "code",
   "execution_count": 248,
   "metadata": {
    "scrolled": false
   },
   "outputs": [
    {
     "data": {
      "text/plain": [
       "array([[ 1.1158113 ,  1.00302836,  1.0496779 ,  0.8938592 ,  1.0376322 ],\n",
       "       [ 1.08812881,  0.91587516,  1.08789349,  0.87995319,  0.91354405],\n",
       "       [ 0.91781648,  0.89803426,  1.0512877 ,  0.8340843 ,  0.97181398],\n",
       "       ..., \n",
       "       [ 1.03418949,  0.67440177,  1.1364688 ,  0.90345694,  0.7822339 ],\n",
       "       [ 1.09079289,  0.84314333,  1.11038965,  0.80738746,  0.91284537],\n",
       "       [ 1.063559  ,  0.70462597,  1.13694243,  0.90059354,  0.7678784 ]])"
      ]
     },
     "execution_count": 248,
     "metadata": {},
     "output_type": "execute_result"
    }
   ],
   "source": [
    "kmeansCluster.fit_transform(x)"
   ]
  },
  {
   "cell_type": "code",
   "execution_count": 249,
   "metadata": {},
   "outputs": [
    {
     "data": {
      "text/plain": [
       "3173.1237759477344"
      ]
     },
     "execution_count": 249,
     "metadata": {},
     "output_type": "execute_result"
    }
   ],
   "source": [
    "kmeansCluster.inertia_"
   ]
  },
  {
   "cell_type": "code",
   "execution_count": 250,
   "metadata": {
    "collapsed": true
   },
   "outputs": [],
   "source": [
    "analysisLabels=kmeansCluster.labels_"
   ]
  },
  {
   "cell_type": "markdown",
   "metadata": {},
   "source": [
    "# Formatting and Analyzing the result"
   ]
  },
  {
   "cell_type": "code",
   "execution_count": 251,
   "metadata": {},
   "outputs": [],
   "source": [
    "clusterDistribution=[];\n",
    "clusterIndex=[];\n",
    "for i in range(n_cluster):\n",
    "    clusterIndex.append(np.where(analysisLabels==i));\n",
    "    clusterDistribution.append(np.where(analysisLabels==i)[0].shape[0])"
   ]
  },
  {
   "cell_type": "code",
   "execution_count": 252,
   "metadata": {},
   "outputs": [
    {
     "data": {
      "image/png": "[encoded data removed]",
      "text/plain": [
       "<matplotlib.figure.Figure at 0x7fda9479c128>"
      ]
     },
     "metadata": {},
     "output_type": "display_data"
    }
   ],
   "source": [
    "plt.close()\n",
    "plt.plot(clusterDistribution,marker=\"o\");\n",
    "plt.xlabel(\"Number of cluster\");\n",
    "plt.ylabel(\"Size of Cluster\");\n",
    "# plt.savefig(os.path.join(imageFolder,\"clusterDistribution.png\"))\n",
    "plt.show()\n",
    "# plt.close()"
   ]
  },
  {
   "cell_type": "code",
   "execution_count": 253,
   "metadata": {
    "scrolled": false
   },
   "outputs": [
    {
     "data": {
      "text/plain": [
       "(5, 87)"
      ]
     },
     "execution_count": 253,
     "metadata": {},
     "output_type": "execute_result"
    }
   ],
   "source": [
    "kmeansCluster.cluster_centers_.shape"
   ]
  },
  {
   "cell_type": "markdown",
   "metadata": {},
   "source": [
    "# Analysing the Clusters"
   ]
  },
  {
   "cell_type": "code",
   "execution_count": 255,
   "metadata": {
    "collapsed": true
   },
   "outputs": [],
   "source": [
    "\n",
    "clusterDictList=[];\n",
    "for i in range(n_cluster):\n",
    "    clusterFeatureList=x[np.where(analysisLabels==i)];\n",
    "    dist=np.sum(clusterFeatureList,axis=0);\n",
    "    dist=dist.tolist()[0];\n",
    "    clusterListTemp=[];\n",
    "    for value,vocab in zip(dist,vocabulary):\n",
    "        clusterListTemp.append([value,vocab])\n",
    "    clusterListTemp.sort(reverse=True)\n",
    "    clusterDictList.append(clusterListTemp)"
   ]
  },
  {
   "cell_type": "code",
   "execution_count": 256,
   "metadata": {
    "collapsed": true
   },
   "outputs": [],
   "source": [
    "clusterTopWord=[];\n",
    "top_barrier=20;\n",
    "for i in range(n_cluster):\n",
    "    clusterTopWord.append([]);\n",
    "    clusterDictList[i];\n",
    "    for j in range(top_barrier):\n",
    "        clusterTopWord[i].append(clusterDictList[i][j][1])"
   ]
  },
  {
   "cell_type": "code",
   "execution_count": 257,
   "metadata": {
    "collapsed": true
   },
   "outputs": [],
   "source": [
    "resultFrame=pd.DataFrame(clusterTopWord)"
   ]
  },
  {
   "cell_type": "markdown",
   "metadata": {},
   "source": [
    "## Displaying top words of every cluster"
   ]
  },
  {
   "cell_type": "code",
   "execution_count": 258,
   "metadata": {
    "scrolled": true
   },
   "outputs": [
    {
     "data": {
      "text/html": [
       "<div>\n",
       "<style>\n",
       "    .dataframe thead tr:only-child th {\n",
       "        text-align: right;\n",
       "    }\n",
       "\n",
       "    .dataframe thead th {\n",
       "        text-align: left;\n",
       "    }\n",
       "\n",
       "    .dataframe tbody tr th {\n",
       "        vertical-align: top;\n",
       "    }\n",
       "</style>\n",
       "<table border=\"1\" class=\"dataframe\">\n",
       "  <thead>\n",
       "    <tr style=\"text-align: right;\">\n",
       "      <th></th>\n",
       "      <th>0</th>\n",
       "      <th>1</th>\n",
       "      <th>2</th>\n",
       "      <th>3</th>\n",
       "      <th>4</th>\n",
       "      <th>5</th>\n",
       "      <th>6</th>\n",
       "      <th>7</th>\n",
       "      <th>8</th>\n",
       "      <th>9</th>\n",
       "      <th>10</th>\n",
       "      <th>11</th>\n",
       "      <th>12</th>\n",
       "      <th>13</th>\n",
       "      <th>14</th>\n",
       "      <th>15</th>\n",
       "      <th>16</th>\n",
       "      <th>17</th>\n",
       "      <th>18</th>\n",
       "      <th>19</th>\n",
       "    </tr>\n",
       "  </thead>\n",
       "  <tbody>\n",
       "    <tr>\n",
       "      <th>0</th>\n",
       "      <td>bank</td>\n",
       "      <td>financial</td>\n",
       "      <td>percent</td>\n",
       "      <td>market</td>\n",
       "      <td>billion</td>\n",
       "      <td>investment</td>\n",
       "      <td>analyst</td>\n",
       "      <td>million</td>\n",
       "      <td>firm</td>\n",
       "      <td>share</td>\n",
       "      <td>stock</td>\n",
       "      <td>business</td>\n",
       "      <td>company</td>\n",
       "      <td>government</td>\n",
       "      <td>group</td>\n",
       "      <td>profit</td>\n",
       "      <td>new</td>\n",
       "      <td>big</td>\n",
       "      <td>state</td>\n",
       "      <td>growth</td>\n",
       "    </tr>\n",
       "    <tr>\n",
       "      <th>1</th>\n",
       "      <td>share</td>\n",
       "      <td>analyst</td>\n",
       "      <td>stock</td>\n",
       "      <td>company</td>\n",
       "      <td>market</td>\n",
       "      <td>percent</td>\n",
       "      <td>price</td>\n",
       "      <td>billion</td>\n",
       "      <td>million</td>\n",
       "      <td>deal</td>\n",
       "      <td>new</td>\n",
       "      <td>corp</td>\n",
       "      <td>based</td>\n",
       "      <td>business</td>\n",
       "      <td>trading</td>\n",
       "      <td>industry</td>\n",
       "      <td>exchange</td>\n",
       "      <td>expected</td>\n",
       "      <td>week</td>\n",
       "      <td>monday</td>\n",
       "    </tr>\n",
       "    <tr>\n",
       "      <th>2</th>\n",
       "      <td>china</td>\n",
       "      <td>official</td>\n",
       "      <td>people</td>\n",
       "      <td>state</td>\n",
       "      <td>right</td>\n",
       "      <td>government</td>\n",
       "      <td>british</td>\n",
       "      <td>united</td>\n",
       "      <td>day</td>\n",
       "      <td>country</td>\n",
       "      <td>told</td>\n",
       "      <td>future</td>\n",
       "      <td>say</td>\n",
       "      <td>issue</td>\n",
       "      <td>month</td>\n",
       "      <td>new</td>\n",
       "      <td>world</td>\n",
       "      <td>market</td>\n",
       "      <td>million</td>\n",
       "      <td>price</td>\n",
       "    </tr>\n",
       "    <tr>\n",
       "      <th>3</th>\n",
       "      <td>company</td>\n",
       "      <td>new</td>\n",
       "      <td>government</td>\n",
       "      <td>service</td>\n",
       "      <td>industry</td>\n",
       "      <td>state</td>\n",
       "      <td>percent</td>\n",
       "      <td>market</td>\n",
       "      <td>corp</td>\n",
       "      <td>group</td>\n",
       "      <td>billion</td>\n",
       "      <td>plan</td>\n",
       "      <td>million</td>\n",
       "      <td>world</td>\n",
       "      <td>president</td>\n",
       "      <td>told</td>\n",
       "      <td>week</td>\n",
       "      <td>deal</td>\n",
       "      <td>business</td>\n",
       "      <td>official</td>\n",
       "    </tr>\n",
       "    <tr>\n",
       "      <th>4</th>\n",
       "      <td>million</td>\n",
       "      <td>percent</td>\n",
       "      <td>profit</td>\n",
       "      <td>sale</td>\n",
       "      <td>company</td>\n",
       "      <td>share</td>\n",
       "      <td>billion</td>\n",
       "      <td>analyst</td>\n",
       "      <td>market</td>\n",
       "      <td>group</td>\n",
       "      <td>business</td>\n",
       "      <td>result</td>\n",
       "      <td>growth</td>\n",
       "      <td>cost</td>\n",
       "      <td>price</td>\n",
       "      <td>expected</td>\n",
       "      <td>month</td>\n",
       "      <td>british</td>\n",
       "      <td>new</td>\n",
       "      <td>executive</td>\n",
       "    </tr>\n",
       "  </tbody>\n",
       "</table>\n",
       "</div>"
      ],
      "text/plain": [
       "        0          1           2        3         4           5        6   \\\n",
       "0     bank  financial     percent   market   billion  investment  analyst   \n",
       "1    share    analyst       stock  company    market     percent    price   \n",
       "2    china   official      people    state     right  government  british   \n",
       "3  company        new  government  service  industry       state  percent   \n",
       "4  million    percent      profit     sale   company       share  billion   \n",
       "\n",
       "        7        8        9         10        11       12          13  \\\n",
       "0  million     firm    share     stock  business  company  government   \n",
       "1  billion  million     deal       new      corp    based    business   \n",
       "2   united      day  country      told    future      say       issue   \n",
       "3   market     corp    group   billion      plan  million       world   \n",
       "4  analyst   market    group  business    result   growth        cost   \n",
       "\n",
       "          14        15        16        17        18         19  \n",
       "0      group    profit       new       big     state     growth  \n",
       "1    trading  industry  exchange  expected      week     monday  \n",
       "2      month       new     world    market   million      price  \n",
       "3  president      told      week      deal  business   official  \n",
       "4      price  expected     month   british       new  executive  "
      ]
     },
     "execution_count": 258,
     "metadata": {},
     "output_type": "execute_result"
    }
   ],
   "source": [
    "resultFrame"
   ]
  },
  {
   "cell_type": "code",
   "execution_count": 259,
   "metadata": {
    "collapsed": true
   },
   "outputs": [],
   "source": [
    "authorLabelNumpy=np.array(dataFrame['authorLabel'])\n",
    "authorClusterArticle=dict();\n",
    "for j in range(len(authorNames)):\n",
    "    authorClusterArticle[authorNames[j]]=[];\n",
    "\n",
    "    "
   ]
  },
  {
   "cell_type": "code",
   "execution_count": 260,
   "metadata": {
    "collapsed": true
   },
   "outputs": [],
   "source": [
    "for i in range(n_cluster):\n",
    "    clusterIndices=np.where(analysisLabels==i);\n",
    "    authorLabelCluster=authorLabelNumpy[clusterIndices];\n",
    "    for key in authorClusterArticle:\n",
    "        index=authorNames.index(key);\n",
    "        authorClusterArticle[key].append(len(np.where(authorLabelCluster==index)[0]))\n",
    "        "
   ]
  },
  {
   "cell_type": "code",
   "execution_count": 261,
   "metadata": {
    "collapsed": true
   },
   "outputs": [],
   "source": [
    "authorArticleClusterResult=pd.DataFrame(authorClusterArticle)"
   ]
  },
  {
   "cell_type": "markdown",
   "metadata": {},
   "source": [
    "## Displaying author article by cluster"
   ]
  },
  {
   "cell_type": "code",
   "execution_count": 262,
   "metadata": {
    "scrolled": false
   },
   "outputs": [
    {
     "data": {
      "text/html": [
       "<div>\n",
       "<style>\n",
       "    .dataframe thead tr:only-child th {\n",
       "        text-align: right;\n",
       "    }\n",
       "\n",
       "    .dataframe thead th {\n",
       "        text-align: left;\n",
       "    }\n",
       "\n",
       "    .dataframe tbody tr th {\n",
       "        vertical-align: top;\n",
       "    }\n",
       "</style>\n",
       "<table border=\"1\" class=\"dataframe\">\n",
       "  <thead>\n",
       "    <tr style=\"text-align: right;\">\n",
       "      <th></th>\n",
       "      <th>AaronPressman</th>\n",
       "      <th>AlanCrosby</th>\n",
       "      <th>AlexanderSmith</th>\n",
       "      <th>BenjaminKangLim</th>\n",
       "      <th>BernardHickey</th>\n",
       "      <th>BradDorfman</th>\n",
       "      <th>DarrenSchuettler</th>\n",
       "      <th>DavidLawder</th>\n",
       "      <th>EdnaFernandes</th>\n",
       "      <th>EricAuchard</th>\n",
       "      <th>...</th>\n",
       "      <th>RogerFillion</th>\n",
       "      <th>SamuelPerry</th>\n",
       "      <th>SarahDavison</th>\n",
       "      <th>ScottHillis</th>\n",
       "      <th>SimonCowell</th>\n",
       "      <th>TanEeLyn</th>\n",
       "      <th>TheresePoletti</th>\n",
       "      <th>TimFarrand</th>\n",
       "      <th>ToddNissen</th>\n",
       "      <th>WilliamKazer</th>\n",
       "    </tr>\n",
       "  </thead>\n",
       "  <tbody>\n",
       "    <tr>\n",
       "      <th>0</th>\n",
       "      <td>37</td>\n",
       "      <td>15</td>\n",
       "      <td>36</td>\n",
       "      <td>1</td>\n",
       "      <td>26</td>\n",
       "      <td>16</td>\n",
       "      <td>24</td>\n",
       "      <td>0</td>\n",
       "      <td>0</td>\n",
       "      <td>2</td>\n",
       "      <td>...</td>\n",
       "      <td>0</td>\n",
       "      <td>1</td>\n",
       "      <td>12</td>\n",
       "      <td>0</td>\n",
       "      <td>2</td>\n",
       "      <td>1</td>\n",
       "      <td>2</td>\n",
       "      <td>0</td>\n",
       "      <td>0</td>\n",
       "      <td>11</td>\n",
       "    </tr>\n",
       "    <tr>\n",
       "      <th>1</th>\n",
       "      <td>1</td>\n",
       "      <td>42</td>\n",
       "      <td>11</td>\n",
       "      <td>2</td>\n",
       "      <td>12</td>\n",
       "      <td>44</td>\n",
       "      <td>44</td>\n",
       "      <td>17</td>\n",
       "      <td>18</td>\n",
       "      <td>54</td>\n",
       "      <td>...</td>\n",
       "      <td>2</td>\n",
       "      <td>30</td>\n",
       "      <td>15</td>\n",
       "      <td>0</td>\n",
       "      <td>17</td>\n",
       "      <td>4</td>\n",
       "      <td>33</td>\n",
       "      <td>6</td>\n",
       "      <td>3</td>\n",
       "      <td>4</td>\n",
       "    </tr>\n",
       "    <tr>\n",
       "      <th>2</th>\n",
       "      <td>0</td>\n",
       "      <td>0</td>\n",
       "      <td>0</td>\n",
       "      <td>83</td>\n",
       "      <td>0</td>\n",
       "      <td>0</td>\n",
       "      <td>0</td>\n",
       "      <td>0</td>\n",
       "      <td>0</td>\n",
       "      <td>0</td>\n",
       "      <td>...</td>\n",
       "      <td>3</td>\n",
       "      <td>0</td>\n",
       "      <td>53</td>\n",
       "      <td>89</td>\n",
       "      <td>0</td>\n",
       "      <td>85</td>\n",
       "      <td>0</td>\n",
       "      <td>0</td>\n",
       "      <td>0</td>\n",
       "      <td>78</td>\n",
       "    </tr>\n",
       "    <tr>\n",
       "      <th>3</th>\n",
       "      <td>61</td>\n",
       "      <td>26</td>\n",
       "      <td>36</td>\n",
       "      <td>12</td>\n",
       "      <td>16</td>\n",
       "      <td>20</td>\n",
       "      <td>27</td>\n",
       "      <td>60</td>\n",
       "      <td>39</td>\n",
       "      <td>33</td>\n",
       "      <td>...</td>\n",
       "      <td>95</td>\n",
       "      <td>59</td>\n",
       "      <td>18</td>\n",
       "      <td>9</td>\n",
       "      <td>39</td>\n",
       "      <td>8</td>\n",
       "      <td>54</td>\n",
       "      <td>10</td>\n",
       "      <td>73</td>\n",
       "      <td>6</td>\n",
       "    </tr>\n",
       "    <tr>\n",
       "      <th>4</th>\n",
       "      <td>1</td>\n",
       "      <td>17</td>\n",
       "      <td>17</td>\n",
       "      <td>2</td>\n",
       "      <td>46</td>\n",
       "      <td>20</td>\n",
       "      <td>5</td>\n",
       "      <td>23</td>\n",
       "      <td>43</td>\n",
       "      <td>11</td>\n",
       "      <td>...</td>\n",
       "      <td>0</td>\n",
       "      <td>10</td>\n",
       "      <td>2</td>\n",
       "      <td>2</td>\n",
       "      <td>42</td>\n",
       "      <td>2</td>\n",
       "      <td>11</td>\n",
       "      <td>84</td>\n",
       "      <td>24</td>\n",
       "      <td>1</td>\n",
       "    </tr>\n",
       "  </tbody>\n",
       "</table>\n",
       "<p>5 rows × 50 columns</p>\n",
       "</div>"
      ],
      "text/plain": [
       "   AaronPressman  AlanCrosby  AlexanderSmith  BenjaminKangLim  BernardHickey  \\\n",
       "0             37          15              36                1             26   \n",
       "1              1          42              11                2             12   \n",
       "2              0           0               0               83              0   \n",
       "3             61          26              36               12             16   \n",
       "4              1          17              17                2             46   \n",
       "\n",
       "   BradDorfman  DarrenSchuettler  DavidLawder  EdnaFernandes  EricAuchard  \\\n",
       "0           16                24            0              0            2   \n",
       "1           44                44           17             18           54   \n",
       "2            0                 0            0              0            0   \n",
       "3           20                27           60             39           33   \n",
       "4           20                 5           23             43           11   \n",
       "\n",
       "       ...       RogerFillion  SamuelPerry  SarahDavison  ScottHillis  \\\n",
       "0      ...                  0            1            12            0   \n",
       "1      ...                  2           30            15            0   \n",
       "2      ...                  3            0            53           89   \n",
       "3      ...                 95           59            18            9   \n",
       "4      ...                  0           10             2            2   \n",
       "\n",
       "   SimonCowell  TanEeLyn  TheresePoletti  TimFarrand  ToddNissen  WilliamKazer  \n",
       "0            2         1               2           0           0            11  \n",
       "1           17         4              33           6           3             4  \n",
       "2            0        85               0           0           0            78  \n",
       "3           39         8              54          10          73             6  \n",
       "4           42         2              11          84          24             1  \n",
       "\n",
       "[5 rows x 50 columns]"
      ]
     },
     "execution_count": 262,
     "metadata": {},
     "output_type": "execute_result"
    }
   ],
   "source": [
    "authorArticleClusterResult"
   ]
  },
  {
   "cell_type": "code",
   "execution_count": 263,
   "metadata": {
    "collapsed": true
   },
   "outputs": [],
   "source": [
    "reshapedAuthorArticleClusterResult=authorArticleClusterResult.pivot_table(columns=authorArticleClusterResult.index)"
   ]
  },
  {
   "cell_type": "code",
   "execution_count": 264,
   "metadata": {
    "scrolled": true
   },
   "outputs": [
    {
     "data": {
      "text/html": [
       "<div>\n",
       "<style>\n",
       "    .dataframe thead tr:only-child th {\n",
       "        text-align: right;\n",
       "    }\n",
       "\n",
       "    .dataframe thead th {\n",
       "        text-align: left;\n",
       "    }\n",
       "\n",
       "    .dataframe tbody tr th {\n",
       "        vertical-align: top;\n",
       "    }\n",
       "</style>\n",
       "<table border=\"1\" class=\"dataframe\">\n",
       "  <thead>\n",
       "    <tr style=\"text-align: right;\">\n",
       "      <th></th>\n",
       "      <th>0</th>\n",
       "      <th>1</th>\n",
       "      <th>2</th>\n",
       "      <th>3</th>\n",
       "      <th>4</th>\n",
       "    </tr>\n",
       "  </thead>\n",
       "  <tbody>\n",
       "    <tr>\n",
       "      <th>AaronPressman</th>\n",
       "      <td>37</td>\n",
       "      <td>1</td>\n",
       "      <td>0</td>\n",
       "      <td>61</td>\n",
       "      <td>1</td>\n",
       "    </tr>\n",
       "    <tr>\n",
       "      <th>AlanCrosby</th>\n",
       "      <td>15</td>\n",
       "      <td>42</td>\n",
       "      <td>0</td>\n",
       "      <td>26</td>\n",
       "      <td>17</td>\n",
       "    </tr>\n",
       "    <tr>\n",
       "      <th>AlexanderSmith</th>\n",
       "      <td>36</td>\n",
       "      <td>11</td>\n",
       "      <td>0</td>\n",
       "      <td>36</td>\n",
       "      <td>17</td>\n",
       "    </tr>\n",
       "    <tr>\n",
       "      <th>BenjaminKangLim</th>\n",
       "      <td>1</td>\n",
       "      <td>2</td>\n",
       "      <td>83</td>\n",
       "      <td>12</td>\n",
       "      <td>2</td>\n",
       "    </tr>\n",
       "    <tr>\n",
       "      <th>BernardHickey</th>\n",
       "      <td>26</td>\n",
       "      <td>12</td>\n",
       "      <td>0</td>\n",
       "      <td>16</td>\n",
       "      <td>46</td>\n",
       "    </tr>\n",
       "    <tr>\n",
       "      <th>BradDorfman</th>\n",
       "      <td>16</td>\n",
       "      <td>44</td>\n",
       "      <td>0</td>\n",
       "      <td>20</td>\n",
       "      <td>20</td>\n",
       "    </tr>\n",
       "    <tr>\n",
       "      <th>DarrenSchuettler</th>\n",
       "      <td>24</td>\n",
       "      <td>44</td>\n",
       "      <td>0</td>\n",
       "      <td>27</td>\n",
       "      <td>5</td>\n",
       "    </tr>\n",
       "    <tr>\n",
       "      <th>DavidLawder</th>\n",
       "      <td>0</td>\n",
       "      <td>17</td>\n",
       "      <td>0</td>\n",
       "      <td>60</td>\n",
       "      <td>23</td>\n",
       "    </tr>\n",
       "    <tr>\n",
       "      <th>EdnaFernandes</th>\n",
       "      <td>0</td>\n",
       "      <td>18</td>\n",
       "      <td>0</td>\n",
       "      <td>39</td>\n",
       "      <td>43</td>\n",
       "    </tr>\n",
       "    <tr>\n",
       "      <th>EricAuchard</th>\n",
       "      <td>2</td>\n",
       "      <td>54</td>\n",
       "      <td>0</td>\n",
       "      <td>33</td>\n",
       "      <td>11</td>\n",
       "    </tr>\n",
       "    <tr>\n",
       "      <th>FumikoFujisaki</th>\n",
       "      <td>43</td>\n",
       "      <td>15</td>\n",
       "      <td>0</td>\n",
       "      <td>36</td>\n",
       "      <td>6</td>\n",
       "    </tr>\n",
       "    <tr>\n",
       "      <th>GrahamEarnshaw</th>\n",
       "      <td>29</td>\n",
       "      <td>41</td>\n",
       "      <td>22</td>\n",
       "      <td>5</td>\n",
       "      <td>3</td>\n",
       "    </tr>\n",
       "    <tr>\n",
       "      <th>HeatherScoffield</th>\n",
       "      <td>2</td>\n",
       "      <td>31</td>\n",
       "      <td>2</td>\n",
       "      <td>56</td>\n",
       "      <td>9</td>\n",
       "    </tr>\n",
       "    <tr>\n",
       "      <th>JanLopatka</th>\n",
       "      <td>18</td>\n",
       "      <td>3</td>\n",
       "      <td>0</td>\n",
       "      <td>69</td>\n",
       "      <td>10</td>\n",
       "    </tr>\n",
       "    <tr>\n",
       "      <th>JaneMacartney</th>\n",
       "      <td>3</td>\n",
       "      <td>1</td>\n",
       "      <td>87</td>\n",
       "      <td>8</td>\n",
       "      <td>1</td>\n",
       "    </tr>\n",
       "    <tr>\n",
       "      <th>JimGilchrist</th>\n",
       "      <td>0</td>\n",
       "      <td>0</td>\n",
       "      <td>23</td>\n",
       "      <td>73</td>\n",
       "      <td>4</td>\n",
       "    </tr>\n",
       "    <tr>\n",
       "      <th>JoWinterbottom</th>\n",
       "      <td>8</td>\n",
       "      <td>54</td>\n",
       "      <td>0</td>\n",
       "      <td>4</td>\n",
       "      <td>34</td>\n",
       "    </tr>\n",
       "    <tr>\n",
       "      <th>JoeOrtiz</th>\n",
       "      <td>42</td>\n",
       "      <td>20</td>\n",
       "      <td>0</td>\n",
       "      <td>8</td>\n",
       "      <td>30</td>\n",
       "    </tr>\n",
       "    <tr>\n",
       "      <th>JohnMastrini</th>\n",
       "      <td>24</td>\n",
       "      <td>7</td>\n",
       "      <td>2</td>\n",
       "      <td>58</td>\n",
       "      <td>9</td>\n",
       "    </tr>\n",
       "    <tr>\n",
       "      <th>JonathanBirt</th>\n",
       "      <td>0</td>\n",
       "      <td>21</td>\n",
       "      <td>0</td>\n",
       "      <td>21</td>\n",
       "      <td>58</td>\n",
       "    </tr>\n",
       "    <tr>\n",
       "      <th>KarlPenhaul</th>\n",
       "      <td>0</td>\n",
       "      <td>1</td>\n",
       "      <td>1</td>\n",
       "      <td>94</td>\n",
       "      <td>4</td>\n",
       "    </tr>\n",
       "    <tr>\n",
       "      <th>KeithWeir</th>\n",
       "      <td>0</td>\n",
       "      <td>20</td>\n",
       "      <td>0</td>\n",
       "      <td>30</td>\n",
       "      <td>50</td>\n",
       "    </tr>\n",
       "    <tr>\n",
       "      <th>KevinDrawbaugh</th>\n",
       "      <td>1</td>\n",
       "      <td>52</td>\n",
       "      <td>0</td>\n",
       "      <td>14</td>\n",
       "      <td>33</td>\n",
       "    </tr>\n",
       "    <tr>\n",
       "      <th>KevinMorrison</th>\n",
       "      <td>12</td>\n",
       "      <td>17</td>\n",
       "      <td>2</td>\n",
       "      <td>25</td>\n",
       "      <td>44</td>\n",
       "    </tr>\n",
       "    <tr>\n",
       "      <th>KirstinRidley</th>\n",
       "      <td>0</td>\n",
       "      <td>37</td>\n",
       "      <td>1</td>\n",
       "      <td>34</td>\n",
       "      <td>28</td>\n",
       "    </tr>\n",
       "    <tr>\n",
       "      <th>KouroshKarimkhany</th>\n",
       "      <td>3</td>\n",
       "      <td>34</td>\n",
       "      <td>0</td>\n",
       "      <td>35</td>\n",
       "      <td>28</td>\n",
       "    </tr>\n",
       "    <tr>\n",
       "      <th>LydiaZajc</th>\n",
       "      <td>21</td>\n",
       "      <td>66</td>\n",
       "      <td>0</td>\n",
       "      <td>7</td>\n",
       "      <td>6</td>\n",
       "    </tr>\n",
       "    <tr>\n",
       "      <th>LynneO'Donnell</th>\n",
       "      <td>0</td>\n",
       "      <td>10</td>\n",
       "      <td>89</td>\n",
       "      <td>1</td>\n",
       "      <td>0</td>\n",
       "    </tr>\n",
       "    <tr>\n",
       "      <th>LynnleyBrowning</th>\n",
       "      <td>4</td>\n",
       "      <td>9</td>\n",
       "      <td>0</td>\n",
       "      <td>71</td>\n",
       "      <td>16</td>\n",
       "    </tr>\n",
       "    <tr>\n",
       "      <th>MarcelMichelson</th>\n",
       "      <td>2</td>\n",
       "      <td>4</td>\n",
       "      <td>0</td>\n",
       "      <td>66</td>\n",
       "      <td>28</td>\n",
       "    </tr>\n",
       "    <tr>\n",
       "      <th>MarkBendeich</th>\n",
       "      <td>12</td>\n",
       "      <td>10</td>\n",
       "      <td>4</td>\n",
       "      <td>30</td>\n",
       "      <td>44</td>\n",
       "    </tr>\n",
       "    <tr>\n",
       "      <th>MartinWolk</th>\n",
       "      <td>0</td>\n",
       "      <td>41</td>\n",
       "      <td>0</td>\n",
       "      <td>37</td>\n",
       "      <td>22</td>\n",
       "    </tr>\n",
       "    <tr>\n",
       "      <th>MatthewBunce</th>\n",
       "      <td>4</td>\n",
       "      <td>24</td>\n",
       "      <td>0</td>\n",
       "      <td>67</td>\n",
       "      <td>5</td>\n",
       "    </tr>\n",
       "    <tr>\n",
       "      <th>MichaelConnor</th>\n",
       "      <td>1</td>\n",
       "      <td>13</td>\n",
       "      <td>0</td>\n",
       "      <td>70</td>\n",
       "      <td>16</td>\n",
       "    </tr>\n",
       "    <tr>\n",
       "      <th>MureDickie</th>\n",
       "      <td>3</td>\n",
       "      <td>0</td>\n",
       "      <td>90</td>\n",
       "      <td>7</td>\n",
       "      <td>0</td>\n",
       "    </tr>\n",
       "    <tr>\n",
       "      <th>NickLouth</th>\n",
       "      <td>0</td>\n",
       "      <td>38</td>\n",
       "      <td>0</td>\n",
       "      <td>56</td>\n",
       "      <td>6</td>\n",
       "    </tr>\n",
       "    <tr>\n",
       "      <th>PatriciaCommins</th>\n",
       "      <td>0</td>\n",
       "      <td>39</td>\n",
       "      <td>1</td>\n",
       "      <td>31</td>\n",
       "      <td>29</td>\n",
       "    </tr>\n",
       "    <tr>\n",
       "      <th>PeterHumphrey</th>\n",
       "      <td>0</td>\n",
       "      <td>0</td>\n",
       "      <td>98</td>\n",
       "      <td>2</td>\n",
       "      <td>0</td>\n",
       "    </tr>\n",
       "    <tr>\n",
       "      <th>PierreTran</th>\n",
       "      <td>5</td>\n",
       "      <td>13</td>\n",
       "      <td>1</td>\n",
       "      <td>54</td>\n",
       "      <td>27</td>\n",
       "    </tr>\n",
       "    <tr>\n",
       "      <th>RobinSidel</th>\n",
       "      <td>1</td>\n",
       "      <td>65</td>\n",
       "      <td>0</td>\n",
       "      <td>32</td>\n",
       "      <td>2</td>\n",
       "    </tr>\n",
       "    <tr>\n",
       "      <th>RogerFillion</th>\n",
       "      <td>0</td>\n",
       "      <td>2</td>\n",
       "      <td>3</td>\n",
       "      <td>95</td>\n",
       "      <td>0</td>\n",
       "    </tr>\n",
       "    <tr>\n",
       "      <th>SamuelPerry</th>\n",
       "      <td>1</td>\n",
       "      <td>30</td>\n",
       "      <td>0</td>\n",
       "      <td>59</td>\n",
       "      <td>10</td>\n",
       "    </tr>\n",
       "    <tr>\n",
       "      <th>SarahDavison</th>\n",
       "      <td>12</td>\n",
       "      <td>15</td>\n",
       "      <td>53</td>\n",
       "      <td>18</td>\n",
       "      <td>2</td>\n",
       "    </tr>\n",
       "    <tr>\n",
       "      <th>ScottHillis</th>\n",
       "      <td>0</td>\n",
       "      <td>0</td>\n",
       "      <td>89</td>\n",
       "      <td>9</td>\n",
       "      <td>2</td>\n",
       "    </tr>\n",
       "    <tr>\n",
       "      <th>SimonCowell</th>\n",
       "      <td>2</td>\n",
       "      <td>17</td>\n",
       "      <td>0</td>\n",
       "      <td>39</td>\n",
       "      <td>42</td>\n",
       "    </tr>\n",
       "    <tr>\n",
       "      <th>TanEeLyn</th>\n",
       "      <td>1</td>\n",
       "      <td>4</td>\n",
       "      <td>85</td>\n",
       "      <td>8</td>\n",
       "      <td>2</td>\n",
       "    </tr>\n",
       "    <tr>\n",
       "      <th>TheresePoletti</th>\n",
       "      <td>2</td>\n",
       "      <td>33</td>\n",
       "      <td>0</td>\n",
       "      <td>54</td>\n",
       "      <td>11</td>\n",
       "    </tr>\n",
       "    <tr>\n",
       "      <th>TimFarrand</th>\n",
       "      <td>0</td>\n",
       "      <td>6</td>\n",
       "      <td>0</td>\n",
       "      <td>10</td>\n",
       "      <td>84</td>\n",
       "    </tr>\n",
       "    <tr>\n",
       "      <th>ToddNissen</th>\n",
       "      <td>0</td>\n",
       "      <td>3</td>\n",
       "      <td>0</td>\n",
       "      <td>73</td>\n",
       "      <td>24</td>\n",
       "    </tr>\n",
       "    <tr>\n",
       "      <th>WilliamKazer</th>\n",
       "      <td>11</td>\n",
       "      <td>4</td>\n",
       "      <td>78</td>\n",
       "      <td>6</td>\n",
       "      <td>1</td>\n",
       "    </tr>\n",
       "  </tbody>\n",
       "</table>\n",
       "</div>"
      ],
      "text/plain": [
       "                    0   1   2   3   4\n",
       "AaronPressman      37   1   0  61   1\n",
       "AlanCrosby         15  42   0  26  17\n",
       "AlexanderSmith     36  11   0  36  17\n",
       "BenjaminKangLim     1   2  83  12   2\n",
       "BernardHickey      26  12   0  16  46\n",
       "BradDorfman        16  44   0  20  20\n",
       "DarrenSchuettler   24  44   0  27   5\n",
       "DavidLawder         0  17   0  60  23\n",
       "EdnaFernandes       0  18   0  39  43\n",
       "EricAuchard         2  54   0  33  11\n",
       "FumikoFujisaki     43  15   0  36   6\n",
       "GrahamEarnshaw     29  41  22   5   3\n",
       "HeatherScoffield    2  31   2  56   9\n",
       "JanLopatka         18   3   0  69  10\n",
       "JaneMacartney       3   1  87   8   1\n",
       "JimGilchrist        0   0  23  73   4\n",
       "JoWinterbottom      8  54   0   4  34\n",
       "JoeOrtiz           42  20   0   8  30\n",
       "JohnMastrini       24   7   2  58   9\n",
       "JonathanBirt        0  21   0  21  58\n",
       "KarlPenhaul         0   1   1  94   4\n",
       "KeithWeir           0  20   0  30  50\n",
       "KevinDrawbaugh      1  52   0  14  33\n",
       "KevinMorrison      12  17   2  25  44\n",
       "KirstinRidley       0  37   1  34  28\n",
       "KouroshKarimkhany   3  34   0  35  28\n",
       "LydiaZajc          21  66   0   7   6\n",
       "LynneO'Donnell      0  10  89   1   0\n",
       "LynnleyBrowning     4   9   0  71  16\n",
       "MarcelMichelson     2   4   0  66  28\n",
       "MarkBendeich       12  10   4  30  44\n",
       "MartinWolk          0  41   0  37  22\n",
       "MatthewBunce        4  24   0  67   5\n",
       "MichaelConnor       1  13   0  70  16\n",
       "MureDickie          3   0  90   7   0\n",
       "NickLouth           0  38   0  56   6\n",
       "PatriciaCommins     0  39   1  31  29\n",
       "PeterHumphrey       0   0  98   2   0\n",
       "PierreTran          5  13   1  54  27\n",
       "RobinSidel          1  65   0  32   2\n",
       "RogerFillion        0   2   3  95   0\n",
       "SamuelPerry         1  30   0  59  10\n",
       "SarahDavison       12  15  53  18   2\n",
       "ScottHillis         0   0  89   9   2\n",
       "SimonCowell         2  17   0  39  42\n",
       "TanEeLyn            1   4  85   8   2\n",
       "TheresePoletti      2  33   0  54  11\n",
       "TimFarrand          0   6   0  10  84\n",
       "ToddNissen          0   3   0  73  24\n",
       "WilliamKazer       11   4  78   6   1"
      ]
     },
     "execution_count": 264,
     "metadata": {},
     "output_type": "execute_result"
    }
   ],
   "source": [
    "reshapedAuthorArticleClusterResult"
   ]
  },
  {
   "cell_type": "code",
   "execution_count": 265,
   "metadata": {
    "collapsed": true
   },
   "outputs": [],
   "source": [
    "reshapedAuthorArticleClusterResult.to_csv(\"AuthorClusterResult.csv\")"
   ]
  },
  {
   "cell_type": "markdown",
   "metadata": {},
   "source": [
    "##  PCA for cluster visualization"
   ]
  },
  {
   "cell_type": "code",
   "execution_count": 304,
   "metadata": {},
   "outputs": [],
   "source": [
    "pca = PCA(n_components=2).fit(x.toarray())"
   ]
  },
  {
   "cell_type": "code",
   "execution_count": 305,
   "metadata": {
    "collapsed": true
   },
   "outputs": [],
   "source": [
    "pca_2d = pca.transform(x.toarray())"
   ]
  },
  {
   "cell_type": "code",
   "execution_count": 306,
   "metadata": {
    "collapsed": true
   },
   "outputs": [],
   "source": [
    "pcaDataFrame=pd.DataFrame(pca_2d);"
   ]
  },
  {
   "cell_type": "code",
   "execution_count": 308,
   "metadata": {},
   "outputs": [],
   "source": [
    "pcaDataFrame['labels']=analysisLabels"
   ]
  },
  {
   "cell_type": "code",
   "execution_count": 309,
   "metadata": {},
   "outputs": [],
   "source": [
    "pcaDataFrame.to_csv(\"cluster.csv\");"
   ]
  }
 ],
 "metadata": {
  "kernelspec": {
   "display_name": "Python 3",
   "language": "python",
   "name": "python3"
  },
  "language_info": {
   "codemirror_mode": {
    "name": "ipython",
    "version": 3
   },
   "file_extension": ".py",
   "mimetype": "text/x-python",
   "name": "python",
   "nbconvert_exporter": "python",
   "pygments_lexer": "ipython3",
   "version": "3.6.3"
  }
 },
 "nbformat": 4,
 "nbformat_minor": 2
}
